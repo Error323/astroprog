{
 "cells": [
  {
   "cell_type": "markdown",
   "metadata": {
    "slideshow": {
     "slide_type": "-"
    }
   },
   "source": [
    "# Week 1 - Introduction and Pretest\n",
    "-----------------------------------"
   ]
  },
  {
   "cell_type": "markdown",
   "metadata": {
    "slideshow": {
     "slide_type": "-"
    }
   },
   "source": [
    "### Who are we - Hi there!\n",
    "\n",
    "    Folkert Huizinga - Teacher (AI, Programmer, Hardware tinkerer)\n",
    "    Lucia Klarmann - Teaching Assistant"
   ]
  },
  {
   "cell_type": "markdown",
   "metadata": {
    "slideshow": {
     "slide_type": "-"
    }
   },
   "source": [
    "### Why this course\n",
    "Increasingly important inside and outside Astronomy\n",
    "\n",
    "* High datarates on current and next gen telescopes\n",
    "* Data sharing of scientists results in huge sets for mining\n",
    "* Improved simulations due to increase in compute power\n",
    "* Very powerful for your analysis as researcher/master student\n",
    "\n",
    "Past fellow students made sure that this course is now mandatory"
   ]
  },
  {
   "cell_type": "markdown",
   "metadata": {
    "slideshow": {
     "slide_type": "-"
    }
   },
   "source": [
    "### What to expect\n",
    "Every Tuesday recap on previous assignment, interactive ipython-notebook lecture/session into new material and handout of new assignments. Every Thursday working through syllabus and homework, Lucia and myself walking around answering questions (Your first advisor and true friend will be a searchengine).\n",
    "\n",
    "  1. Introduction and Pretest\n",
    "  2. Linux and the commandline (Finding Pulsars)\n",
    "  3. Parsing Berkeley Earth temperature data\n",
    "  4. Plotting Berkeley Earth temperature data\n",
    "  5. Image manipulation with numpy arrays\n",
    "  6. Confirm Keplers third law, fitting scatterplots\n",
    "  7. Globular cluster analysis\n",
    "  8. Final pass/fail exam (Sanity check)\n",
    " "
   ]
  },
  {
   "cell_type": "markdown",
   "metadata": {
    "slideshow": {
     "slide_type": "-"
    }
   },
   "source": [
    "### Logistics\n",
    "Everything will be done through our website https://astro.mprog.nl/ content will be updated regularly. Register now. The syllabus will be online next week, also available from this website. We will unlock parts of the syllabus weekly that are required together with the appropreate assignments."
   ]
  },
  {
   "cell_type": "markdown",
   "metadata": {
    "slideshow": {
     "slide_type": "-"
    }
   },
   "source": [
    "### Grade calculation\n",
    "* $6$ Assignments with grades $a_1, ..., a_6$\n",
    "* Fail/Pass exam $E \\in \\{0, 1\\}$\n",
    "* Submission deadline every Sunday, penalty $p_i$ defined as #days after deadline\n",
    "* We check on plagiarism across all submissions using various algorithms, don't do it\n",
    "* Final grade: $$g = \\frac{E}{6} ~ \\sum_{i=1}^{6}max(a_i - p_i, 1)$$"
   ]
  },
  {
   "cell_type": "markdown",
   "metadata": {
    "slideshow": {
     "slide_type": "-"
    }
   },
   "source": [
    "### Pretest\n",
    "Gauge current programming skill level. If you pass the pretest, you can opt for an alternative track during this course which will be more challenging and fun. It will also teach you a new concept called *unit testing*. \n",
    "\n",
    " * Based on python 2.7 (research and industry standard)\n",
    " * In no way affects your final grade\n",
    "    \n",
    "Note however you will be doing a more difficult task for the same type of grade as te regular track. No guts, no glory.\n"
   ]
  },
  {
   "cell_type": "markdown",
   "metadata": {
    "slideshow": {
     "slide_type": "-"
    }
   },
   "source": [
    "### Installation (Homework for Thursday)\n",
    "Installing Python and libraries. Own laptop? Linux or Windows? We'll be using the anaconda package for everyone https://www.continuum.io/downloads"
   ]
  }
 ],
 "metadata": {
  "kernelspec": {
   "display_name": "Python 2",
   "language": "python",
   "name": "python2"
  },
  "language_info": {
   "codemirror_mode": {
    "name": "ipython",
    "version": 2
   },
   "file_extension": ".py",
   "mimetype": "text/x-python",
   "name": "python",
   "nbconvert_exporter": "python",
   "pygments_lexer": "ipython2",
   "version": "2.7.6"
  }
 },
 "nbformat": 4,
 "nbformat_minor": 0
}
