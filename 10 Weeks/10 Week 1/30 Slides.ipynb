{
 "metadata": {
  "name": "",
  "signature": "sha256:d4a09db0e5f55231c245ddc133cc68169575a735c8abb158aa812cd130247db7"
 },
 "nbformat": 3,
 "nbformat_minor": 0,
 "worksheets": [
  {
   "cells": [
    {
     "cell_type": "markdown",
     "metadata": {
      "slideshow": {
       "slide_type": "-"
      }
     },
     "source": [
      "# Week 1 - Introduction and Pretest\n",
      "-----------------------------------"
     ]
    },
    {
     "cell_type": "markdown",
     "metadata": {
      "slideshow": {
       "slide_type": "-"
      }
     },
     "source": [
      "### Who are we - Hi there!\n",
      "\n",
      "    Folkert Huizinga - Teacher (AI, Programmer)\n",
      "    Lucia Klarmann - Teaching Assistant"
     ]
    },
    {
     "cell_type": "markdown",
     "metadata": {
      "slideshow": {
       "slide_type": "-"
      }
     },
     "source": [
      "### Why this course\n",
      "Increasingly important inside and outside Astronomy\n",
      "\n",
      "* High datarates on latest gen telescopes\n",
      "* Data sharing of scientists results in huge sets for mining\n",
      "* Improved simulations due to increase in compute power\n",
      "\n",
      "Past fellow students made sure that this course is now mandatory"
     ]
    },
    {
     "cell_type": "markdown",
     "metadata": {
      "slideshow": {
       "slide_type": "-"
      }
     },
     "source": [
      "### What to expect\n",
      "Every Tuesday recap on previous assignment. Interactive lecture/session into new material and handout of new assignments. Every Thursday working through syllabus, Lucia and myself walking around answering questions. Also, *google is your friend*.\n",
      "\n",
      "  1. Introduction and Pretest\n",
      "  2. Linux and the commandline (Finding Pulsars)\n",
      "  3. Parsing Berkeley Earth temperature data\n",
      "  4. Plotting Berkeley Earth temperature data\n",
      "  5. Image manipulation with numpy arrays\n",
      "  6. Confirm Keplers third law, fitting scatterplots\n",
      "  7. Globular cluster analysis\n",
      "  8. Final pass/fail exam (Sanity check)\n",
      " "
     ]
    },
    {
     "cell_type": "markdown",
     "metadata": {
      "slideshow": {
       "slide_type": "-"
      }
     },
     "source": [
      "### Logistics\n",
      "Everything will be done through our website https://astro.mprog.nl/ content will be updated regularly. Register now."
     ]
    },
    {
     "cell_type": "markdown",
     "metadata": {
      "slideshow": {
       "slide_type": "-"
      }
     },
     "source": [
      "### Grade calculation\n",
      "* $6$ Assignments with grades $a_1, ..., a_6$\n",
      "* Pass/Fail exam $E \\in \\{0, 1\\}$\n",
      "* Submission deadline every Sunday, penalty $p_i$ defined as #days after deadline\n",
      "* Final grade: $$g = \\frac{E}{6} ~ \\sum_{i=1}^{6}max(a_i - p_i, 1)$$"
     ]
    },
    {
     "cell_type": "markdown",
     "metadata": {
      "slideshow": {
       "slide_type": "-"
      }
     },
     "source": [
      "### Thursday\n",
      "Installing Python and libraries. Own laptop? Linux or Windows?"
     ]
    },
    {
     "cell_type": "markdown",
     "metadata": {
      "slideshow": {
       "slide_type": "-"
      }
     },
     "source": [
      "### Pretest\n",
      "Gauge current programming skill. If you pass the pretest, you can opt for an alternative track during this course which will be more challenging and fun. Note however you will be doing a more difficult task for the same type of grade as te regular track. No guts, no glory."
     ]
    }
   ],
   "metadata": {}
  }
 ]
}