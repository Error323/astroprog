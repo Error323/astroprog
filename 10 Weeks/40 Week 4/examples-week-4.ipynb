{
 "cells": [
  {
   "cell_type": "markdown",
   "metadata": {},
   "source": [
    "## Program structure"
   ]
  },
  {
   "cell_type": "code",
   "execution_count": 2,
   "metadata": {
    "collapsed": true
   },
   "outputs": [],
   "source": [
    "def trivial():\n",
    "    pass\n",
    "\n",
    "trivial()"
   ]
  },
  {
   "cell_type": "code",
   "execution_count": 12,
   "metadata": {
    "collapsed": false
   },
   "outputs": [
    {
     "name": "stdout",
     "output_type": "stream",
     "text": [
      "hello\n",
      "None\n"
     ]
    }
   ],
   "source": [
    "def function2(x):\n",
    "    print 'hello'\n",
    "\n",
    "print function2('x')  # Python ``returns'' None behind you back"
   ]
  },
  {
   "cell_type": "code",
   "execution_count": 10,
   "metadata": {
    "collapsed": false
   },
   "outputs": [
    {
     "name": "stdout",
     "output_type": "stream",
     "text": [
      "xx\n"
     ]
    }
   ],
   "source": [
    "def function3(x):\n",
    "    return 2 * x\n",
    "\n",
    "print function3('x')"
   ]
  },
  {
   "cell_type": "code",
   "execution_count": 15,
   "metadata": {
    "collapsed": false
   },
   "outputs": [
    {
     "name": "stdout",
     "output_type": "stream",
     "text": [
      "42\n",
      "Help on function function4 in module __main__:\n",
      "\n",
      "function4(x)\n",
      "    Add two to a number\n",
      "\n"
     ]
    }
   ],
   "source": [
    "# docstring example:\n",
    "def function4(x):\n",
    "    '''Add two to a number'''\n",
    "    return x + 2\n",
    "\n",
    "print function4(40)\n",
    "help(function4)"
   ]
  },
  {
   "cell_type": "code",
   "execution_count": 20,
   "metadata": {
    "collapsed": false
   },
   "outputs": [
    {
     "name": "stdout",
     "output_type": "stream",
     "text": [
      "7\n",
      "5\n"
     ]
    }
   ],
   "source": [
    "def function5(x, y=5):\n",
    "    '''Add two numbers'''\n",
    "    return x + y\n",
    "\n",
    "print function5(2)\n",
    "print function5(2, 3)"
   ]
  },
  {
   "cell_type": "code",
   "execution_count": 25,
   "metadata": {
    "collapsed": false
   },
   "outputs": [
    {
     "ename": "SyntaxError",
     "evalue": "non-default argument follows default argument (<ipython-input-25-40bc51541f9f>, line 2)",
     "output_type": "error",
     "traceback": [
      "\u001b[0;36m  File \u001b[0;32m\"<ipython-input-25-40bc51541f9f>\"\u001b[0;36m, line \u001b[0;32m2\u001b[0m\n\u001b[0;31m    def function6(x, y=6, z):\u001b[0m\n\u001b[0;31mSyntaxError\u001b[0m\u001b[0;31m:\u001b[0m non-default argument follows default argument\n"
     ]
    }
   ],
   "source": [
    "# default arguments go at the back of the argument list (so this fails!)\n",
    "def function6(x, y=6, z):\n",
    "    '''Add three numbers'''\n",
    "    return x + y + z\n",
    "\n",
    "print function6()\n"
   ]
  },
  {
   "cell_type": "code",
   "execution_count": 26,
   "metadata": {
    "collapsed": false
   },
   "outputs": [
    {
     "name": "stdout",
     "output_type": "stream",
     "text": [
      "[8]\n",
      "[8, 8]\n"
     ]
    }
   ],
   "source": [
    "# Careful with lists as default values, they are mutable:\n",
    "\n",
    "def append(value, l=[]):\n",
    "    '''Append value to list'''\n",
    "    l.append(value)\n",
    "    return l\n",
    "\n",
    "print append(8)\n",
    "print append(8)"
   ]
  },
  {
   "cell_type": "code",
   "execution_count": 29,
   "metadata": {
    "collapsed": false
   },
   "outputs": [
    {
     "name": "stdout",
     "output_type": "stream",
     "text": [
      "[8]\n",
      "[8]\n"
     ]
    }
   ],
   "source": [
    "# correct ``pattern''\n",
    "def correct_append(value, l=None):\n",
    "    '''Append value to list'''\n",
    "    if l is None:\n",
    "        l = []\n",
    "    l.append(value)\n",
    "    return l\n",
    "\n",
    "print correct_append(8)\n",
    "print correct_append(8)"
   ]
  },
  {
   "cell_type": "code",
   "execution_count": 37,
   "metadata": {
    "collapsed": false
   },
   "outputs": [
    {
     "name": "stdout",
     "output_type": "stream",
     "text": [
      "[8]\n",
      "[9, 0, 1]\n"
     ]
    }
   ],
   "source": [
    "# identity checks using the id function\n",
    "import copy\n",
    "\n",
    "la = []\n",
    "lb = la  # lb is a reference to la, not a copy !!!\n",
    "\n",
    "lb.append(8)\n",
    "\n",
    "print la\n",
    "assert id(lb) == id(la)\n",
    "\n",
    "lc = [9, 0, 1]\n",
    "ld = copy.copy(lc) # creates a ``shallow'' copy of lc (there is also copy.deepcopy)\n",
    "print ld\n",
    "assert id(ld) != id(lc)"
   ]
  },
  {
   "cell_type": "code",
   "execution_count": 40,
   "metadata": {
    "collapsed": false
   },
   "outputs": [
    {
     "name": "stdout",
     "output_type": "stream",
     "text": [
      "blahblahblah\n",
      "hello blah whatever\n"
     ]
    }
   ],
   "source": [
    "def function7(a, b='blah', c='blah'):\n",
    "    '''Concatinate 3 strings'''\n",
    "    return a + b + c\n",
    "\n",
    "print function7('blah')\n",
    "print function7('hello ', c=' whatever')"
   ]
  },
  {
   "cell_type": "code",
   "execution_count": 65,
   "metadata": {
    "collapsed": false
   },
   "outputs": [
    {
     "name": "stdout",
     "output_type": "stream",
     "text": [
      "type of args <type 'tuple'>\n",
      "87\n",
      "<type 'dict'>\n",
      "['a', 'c', 'b']\n",
      "[10, 56, 34]\n",
      "and\n",
      "<type 'dict'>\n",
      "['a', 'c', 'b']\n",
      "[10, 56, 34]\n"
     ]
    }
   ],
   "source": [
    "# Not necessary for this course !!!\n",
    "def function8(*args):\n",
    "    '''Add numbers'''\n",
    "    s = 0\n",
    "    print 'type of args', type(args)\n",
    "    for arg in args:\n",
    "        s += arg\n",
    "    return s\n",
    "\n",
    "print function8(10, 2, 5, 67, 3)\n",
    "\n",
    "# Not necessary for this course !!!\n",
    "def function9(*args, **kwargs):\n",
    "    '''Show of keyword arguments'''\n",
    "    print type(kwargs)\n",
    "    keys = kwargs.keys()\n",
    "    values = kwargs.values()\n",
    "    \n",
    "    print keys\n",
    "    print values\n",
    "\n",
    "function9(a=10, b=34, c=56)\n",
    "print 'and'\n",
    "function9(10, 13, a=10, b=34, c=56)\n"
   ]
  },
  {
   "cell_type": "code",
   "execution_count": 50,
   "metadata": {
    "collapsed": false
   },
   "outputs": [
    {
     "name": "stdout",
     "output_type": "stream",
     "text": [
      "<type 'int'> 10\n",
      "<type 'int'> 11\n",
      "<type 'tuple'> (10, 11)\n"
     ]
    }
   ],
   "source": [
    "def function10():\n",
    "    '''Returns 10 and 11'''\n",
    "    return 10, 11\n",
    "\n",
    "a, b = function10()\n",
    "print type(a), a\n",
    "print type(b), b\n",
    "\n",
    "out = function10()\n",
    "print type(out), out"
   ]
  },
  {
   "cell_type": "code",
   "execution_count": 52,
   "metadata": {
    "collapsed": false
   },
   "outputs": [
    {
     "name": "stdout",
     "output_type": "stream",
     "text": [
      "a 10\n",
      "b 11\n",
      "Now we swap\n",
      "a 11\n",
      "b 10\n"
     ]
    }
   ],
   "source": [
    "# ``Tuple unpacking''\n",
    "a, b = (10, 11)\n",
    "print 'a', a\n",
    "print 'b', b\n",
    "\n",
    "print 'Now we swap'\n",
    "a, b = b, a\n",
    "print 'a', a\n",
    "print 'b', b"
   ]
  },
  {
   "cell_type": "code",
   "execution_count": 54,
   "metadata": {
    "collapsed": false
   },
   "outputs": [
    {
     "name": "stdout",
     "output_type": "stream",
     "text": [
      "0 a\n",
      "1 b\n",
      "2 c\n",
      "be careful with enumerate\n",
      "<enumerate object at 0x111486550>\n",
      "[(0, 'a'), (1, 'b'), (2, 'c')]\n"
     ]
    }
   ],
   "source": [
    "l = ['a', 'b', 'c']\n",
    "for i, elem in enumerate(l):  # allowed because of tuple unpacking\n",
    "    print i, elem\n",
    "    \n",
    "print \"be careful with enumerate\"\n",
    "print enumerate(l)  # creates an ``iterable'' not literally a list\n",
    "print list(enumerate(l))"
   ]
  },
  {
   "cell_type": "markdown",
   "metadata": {},
   "source": [
    "## Scope"
   ]
  },
  {
   "cell_type": "code",
   "execution_count": 55,
   "metadata": {
    "collapsed": false
   },
   "outputs": [
    {
     "name": "stdout",
     "output_type": "stream",
     "text": [
      "['a', 'b', 'c']\n"
     ]
    }
   ],
   "source": [
    "print l # In a Notebook the cells share one scope!"
   ]
  },
  {
   "cell_type": "code",
   "execution_count": 59,
   "metadata": {
    "collapsed": false
   },
   "outputs": [
    {
     "name": "stdout",
     "output_type": "stream",
     "text": [
      "15 10\n"
     ]
    },
    {
     "ename": "NameError",
     "evalue": "global name 'aa' is not defined",
     "output_type": "error",
     "traceback": [
      "\u001b[0;31m---------------------------------------------------------------------------\u001b[0m",
      "\u001b[0;31mNameError\u001b[0m                                 Traceback (most recent call last)",
      "\u001b[0;32m<ipython-input-59-dae306d113e8>\u001b[0m in \u001b[0;36m<module>\u001b[0;34m()\u001b[0m\n\u001b[1;32m      9\u001b[0m \u001b[0;34m\u001b[0m\u001b[0m\n\u001b[1;32m     10\u001b[0m \u001b[0mfunction11\u001b[0m\u001b[0;34m(\u001b[0m\u001b[0;34m)\u001b[0m\u001b[0;34m\u001b[0m\u001b[0m\n\u001b[0;32m---> 11\u001b[0;31m \u001b[0mfunction12\u001b[0m\u001b[0;34m(\u001b[0m\u001b[0;34m)\u001b[0m\u001b[0;34m\u001b[0m\u001b[0m\n\u001b[0m",
      "\u001b[0;32m<ipython-input-59-dae306d113e8>\u001b[0m in \u001b[0;36mfunction12\u001b[0;34m()\u001b[0m\n\u001b[1;32m      6\u001b[0m \u001b[0;34m\u001b[0m\u001b[0m\n\u001b[1;32m      7\u001b[0m \u001b[0;32mdef\u001b[0m \u001b[0mfunction12\u001b[0m\u001b[0;34m(\u001b[0m\u001b[0;34m)\u001b[0m\u001b[0;34m:\u001b[0m\u001b[0;34m\u001b[0m\u001b[0m\n\u001b[0;32m----> 8\u001b[0;31m     \u001b[0;32mprint\u001b[0m \u001b[0maa\u001b[0m\u001b[0;34m,\u001b[0m \u001b[0mvery_visible\u001b[0m\u001b[0;34m\u001b[0m\u001b[0m\n\u001b[0m\u001b[1;32m      9\u001b[0m \u001b[0;34m\u001b[0m\u001b[0m\n\u001b[1;32m     10\u001b[0m \u001b[0mfunction11\u001b[0m\u001b[0;34m(\u001b[0m\u001b[0;34m)\u001b[0m\u001b[0;34m\u001b[0m\u001b[0m\n",
      "\u001b[0;31mNameError\u001b[0m: global name 'aa' is not defined"
     ]
    }
   ],
   "source": [
    "very_visible = 10\n",
    "\n",
    "def function11():\n",
    "    aa = 15\n",
    "    print aa, very_visible\n",
    "\n",
    "def function12():\n",
    "    print aa, very_visible\n",
    "    \n",
    "function11()\n",
    "\n",
    "# aa not available locally in function12, also not in global scope or built-ins:\n",
    "function12()  "
   ]
  },
  {
   "cell_type": "code",
   "execution_count": 64,
   "metadata": {
    "collapsed": false
   },
   "outputs": [
    {
     "name": "stdout",
     "output_type": "stream",
     "text": [
      "i after first loop 99\n",
      "[0, 2, 4, 6, 8, 10, 12, 14, 16, 18]\n",
      "i after a list comprehension using i 9\n"
     ]
    }
   ],
   "source": [
    "# variables do escape a for loop (a.k.a. no block scopy in Python)\n",
    "for i in range(100):\n",
    "    pass\n",
    "\n",
    "print 'i after first loop', i\n",
    "\n",
    "# even worse (also not necessary for this course)\n",
    "l = [2 * i for i in range(10)]\n",
    "print l\n",
    "print 'i after a list comprehension using i', i"
   ]
  },
  {
   "cell_type": "code",
   "execution_count": null,
   "metadata": {
    "collapsed": true
   },
   "outputs": [],
   "source": []
  }
 ],
 "metadata": {
  "kernelspec": {
   "display_name": "Python 2",
   "language": "python",
   "name": "python2"
  },
  "language_info": {
   "codemirror_mode": {
    "name": "ipython",
    "version": 2
   },
   "file_extension": ".py",
   "mimetype": "text/x-python",
   "name": "python",
   "nbconvert_exporter": "python",
   "pygments_lexer": "ipython2",
   "version": "2.7.6"
  }
 },
 "nbformat": 4,
 "nbformat_minor": 0
}
